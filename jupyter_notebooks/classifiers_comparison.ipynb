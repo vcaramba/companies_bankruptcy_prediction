{
 "cells": [
  {
   "cell_type": "code",
   "execution_count": 1,
   "metadata": {
    "pycharm": {
     "is_executing": true
    }
   },
   "outputs": [
    {
     "data": {
      "text/html": [
       "<div>\n",
       "<style scoped>\n",
       "    .dataframe tbody tr th:only-of-type {\n",
       "        vertical-align: middle;\n",
       "    }\n",
       "\n",
       "    .dataframe tbody tr th {\n",
       "        vertical-align: top;\n",
       "    }\n",
       "\n",
       "    .dataframe thead th {\n",
       "        text-align: right;\n",
       "    }\n",
       "</style>\n",
       "<table border=\"1\" class=\"dataframe\">\n",
       "  <thead>\n",
       "    <tr style=\"text-align: right;\">\n",
       "      <th></th>\n",
       "      <th>Attr1</th>\n",
       "      <th>Attr2</th>\n",
       "      <th>Attr3</th>\n",
       "      <th>Attr4</th>\n",
       "      <th>Attr5</th>\n",
       "      <th>Attr6</th>\n",
       "      <th>Attr7</th>\n",
       "      <th>Attr8</th>\n",
       "      <th>Attr9</th>\n",
       "      <th>Attr10</th>\n",
       "      <th>...</th>\n",
       "      <th>Attr57</th>\n",
       "      <th>Attr58</th>\n",
       "      <th>Attr59</th>\n",
       "      <th>Attr60</th>\n",
       "      <th>Attr61</th>\n",
       "      <th>Attr62</th>\n",
       "      <th>Attr63</th>\n",
       "      <th>Attr64</th>\n",
       "      <th>class</th>\n",
       "      <th>bankruptcy_after_years</th>\n",
       "    </tr>\n",
       "  </thead>\n",
       "  <tbody>\n",
       "    <tr>\n",
       "      <th>0</th>\n",
       "      <td>0.200550</td>\n",
       "      <td>0.37951</td>\n",
       "      <td>0.39641</td>\n",
       "      <td>2.0472</td>\n",
       "      <td>32.3510</td>\n",
       "      <td>0.38825</td>\n",
       "      <td>0.249760</td>\n",
       "      <td>1.33050</td>\n",
       "      <td>1.1389</td>\n",
       "      <td>0.50494</td>\n",
       "      <td>...</td>\n",
       "      <td>0.39718</td>\n",
       "      <td>0.87804</td>\n",
       "      <td>0.001924</td>\n",
       "      <td>8.4160</td>\n",
       "      <td>5.1372</td>\n",
       "      <td>82.658</td>\n",
       "      <td>4.4158</td>\n",
       "      <td>7.4277</td>\n",
       "      <td>0</td>\n",
       "      <td>0</td>\n",
       "    </tr>\n",
       "    <tr>\n",
       "      <th>1</th>\n",
       "      <td>0.209120</td>\n",
       "      <td>0.49988</td>\n",
       "      <td>0.47225</td>\n",
       "      <td>1.9447</td>\n",
       "      <td>14.7860</td>\n",
       "      <td>0.00000</td>\n",
       "      <td>0.258340</td>\n",
       "      <td>0.99601</td>\n",
       "      <td>1.6996</td>\n",
       "      <td>0.49788</td>\n",
       "      <td>...</td>\n",
       "      <td>0.42002</td>\n",
       "      <td>0.85300</td>\n",
       "      <td>0.000000</td>\n",
       "      <td>4.1486</td>\n",
       "      <td>3.2732</td>\n",
       "      <td>107.350</td>\n",
       "      <td>3.4000</td>\n",
       "      <td>60.9870</td>\n",
       "      <td>0</td>\n",
       "      <td>0</td>\n",
       "    </tr>\n",
       "    <tr>\n",
       "      <th>2</th>\n",
       "      <td>0.248660</td>\n",
       "      <td>0.69592</td>\n",
       "      <td>0.26713</td>\n",
       "      <td>1.5548</td>\n",
       "      <td>-1.1523</td>\n",
       "      <td>0.00000</td>\n",
       "      <td>0.309060</td>\n",
       "      <td>0.43695</td>\n",
       "      <td>1.3090</td>\n",
       "      <td>0.30408</td>\n",
       "      <td>...</td>\n",
       "      <td>0.81774</td>\n",
       "      <td>0.76599</td>\n",
       "      <td>0.694840</td>\n",
       "      <td>4.9909</td>\n",
       "      <td>3.9510</td>\n",
       "      <td>134.270</td>\n",
       "      <td>2.7185</td>\n",
       "      <td>5.2078</td>\n",
       "      <td>0</td>\n",
       "      <td>0</td>\n",
       "    </tr>\n",
       "    <tr>\n",
       "      <th>3</th>\n",
       "      <td>0.081483</td>\n",
       "      <td>0.30734</td>\n",
       "      <td>0.45879</td>\n",
       "      <td>2.4928</td>\n",
       "      <td>51.9520</td>\n",
       "      <td>0.14988</td>\n",
       "      <td>0.092704</td>\n",
       "      <td>1.86610</td>\n",
       "      <td>1.0571</td>\n",
       "      <td>0.57353</td>\n",
       "      <td>...</td>\n",
       "      <td>0.14207</td>\n",
       "      <td>0.94598</td>\n",
       "      <td>0.000000</td>\n",
       "      <td>4.5746</td>\n",
       "      <td>3.6147</td>\n",
       "      <td>86.435</td>\n",
       "      <td>4.2228</td>\n",
       "      <td>5.5497</td>\n",
       "      <td>0</td>\n",
       "      <td>0</td>\n",
       "    </tr>\n",
       "    <tr>\n",
       "      <th>4</th>\n",
       "      <td>0.187320</td>\n",
       "      <td>0.61323</td>\n",
       "      <td>0.22960</td>\n",
       "      <td>1.4063</td>\n",
       "      <td>-7.3128</td>\n",
       "      <td>0.18732</td>\n",
       "      <td>0.187320</td>\n",
       "      <td>0.63070</td>\n",
       "      <td>1.1559</td>\n",
       "      <td>0.38677</td>\n",
       "      <td>...</td>\n",
       "      <td>0.48431</td>\n",
       "      <td>0.86515</td>\n",
       "      <td>0.124440</td>\n",
       "      <td>6.3985</td>\n",
       "      <td>4.3158</td>\n",
       "      <td>127.210</td>\n",
       "      <td>2.8692</td>\n",
       "      <td>7.8980</td>\n",
       "      <td>0</td>\n",
       "      <td>0</td>\n",
       "    </tr>\n",
       "  </tbody>\n",
       "</table>\n",
       "<p>5 rows × 66 columns</p>\n",
       "</div>"
      ],
      "text/plain": [
       "      Attr1    Attr2    Attr3   Attr4    Attr5    Attr6     Attr7    Attr8  \\\n",
       "0  0.200550  0.37951  0.39641  2.0472  32.3510  0.38825  0.249760  1.33050   \n",
       "1  0.209120  0.49988  0.47225  1.9447  14.7860  0.00000  0.258340  0.99601   \n",
       "2  0.248660  0.69592  0.26713  1.5548  -1.1523  0.00000  0.309060  0.43695   \n",
       "3  0.081483  0.30734  0.45879  2.4928  51.9520  0.14988  0.092704  1.86610   \n",
       "4  0.187320  0.61323  0.22960  1.4063  -7.3128  0.18732  0.187320  0.63070   \n",
       "\n",
       "    Attr9   Attr10  ...   Attr57   Attr58    Attr59  Attr60  Attr61   Attr62  \\\n",
       "0  1.1389  0.50494  ...  0.39718  0.87804  0.001924  8.4160  5.1372   82.658   \n",
       "1  1.6996  0.49788  ...  0.42002  0.85300  0.000000  4.1486  3.2732  107.350   \n",
       "2  1.3090  0.30408  ...  0.81774  0.76599  0.694840  4.9909  3.9510  134.270   \n",
       "3  1.0571  0.57353  ...  0.14207  0.94598  0.000000  4.5746  3.6147   86.435   \n",
       "4  1.1559  0.38677  ...  0.48431  0.86515  0.124440  6.3985  4.3158  127.210   \n",
       "\n",
       "   Attr63   Attr64  class  bankruptcy_after_years  \n",
       "0  4.4158   7.4277      0                       0  \n",
       "1  3.4000  60.9870      0                       0  \n",
       "2  2.7185   5.2078      0                       0  \n",
       "3  4.2228   5.5497      0                       0  \n",
       "4  2.8692   7.8980      0                       0  \n",
       "\n",
       "[5 rows x 66 columns]"
      ]
     },
     "execution_count": 1,
     "metadata": {},
     "output_type": "execute_result"
    }
   ],
   "source": [
    "import numpy as np\n",
    "import pandas as pd\n",
    "import pickle\n",
    "\n",
    "col_names = pd.read_csv('../data/dataset.csv', nrows=0).columns\n",
    "dtype_map = {'class' : np.int16, 'bankruptcy_after_years' : np.int16}\n",
    "dtype_map.update({col: np.float64 for col in col_names if col not in dtype_map})\n",
    "\n",
    "df = pd.read_csv('../data/dataset.csv', dtype=dtype_map)\n",
    "df = df.drop([df.columns[0], df.columns[1], df.columns[2], 'year'], axis=1)\n",
    "df.drop_duplicates(keep=False, inplace=True)\n",
    "\n",
    "df.head()"
   ]
  },
  {
   "cell_type": "markdown",
   "metadata": {},
   "source": [
    "Impute missing values before selecting top-10 features based on mutual information gain with nonparametrical model (kNN, k=3). Mutual information gain criteria is suitable for feature selection from the data having both linear and non-linear dependencies."
   ]
  },
  {
   "cell_type": "code",
   "execution_count": 2,
   "metadata": {},
   "outputs": [
    {
     "data": {
      "text/plain": [
       "0"
      ]
     },
     "execution_count": 2,
     "metadata": {},
     "output_type": "execute_result"
    }
   ],
   "source": [
    "from sklearn.feature_selection import SelectKBest, mutual_info_classif\n",
    "from sklearn.impute import SimpleImputer\n",
    "import gc\n",
    "import numpy as np\n",
    "\n",
    "imp = SimpleImputer(missing_values=np.nan, strategy='mean')\n",
    "imp_data = imp.fit_transform(df)\n",
    "imp_data_df = pd.DataFrame(imp_data, index=df.index, columns=df.columns)\n",
    "\n",
    "X = imp_data_df[imp_data_df.columns.difference(['bankruptcy_after_years', 'class'])]\n",
    "Y = imp_data_df['bankruptcy_after_years']\n",
    "\n",
    "del imp_data, imp_data_df\n",
    "gc.collect()"
   ]
  },
  {
   "cell_type": "code",
   "execution_count": 3,
   "metadata": {},
   "outputs": [],
   "source": [
    "from sklearn.feature_selection import SelectKBest, mutual_info_classif, f_classif\n",
    "\n",
    "def select_k_best(score):\n",
    "    selector = SelectKBest(score, k=10)\n",
    "    X_new = selector.fit_transform(X, Y)\n",
    "    names = X.columns.values[selector.get_support()]\n",
    "    scores = selector.scores_[selector.get_support()]\n",
    "    names_scores = list(zip(names, scores))\n",
    "    df_reduced = pd.DataFrame(data = names_scores, columns=['feature_names', 'mutual_info'])\n",
    "\n",
    "    df_reduced = df_reduced.sort_values(['mutual_info', 'feature_names'], ascending = [False, True])\n",
    "    print(df_reduced)\n",
    "    return df_reduced.feature_names"
   ]
  },
  {
   "cell_type": "code",
   "execution_count": 4,
   "metadata": {},
   "outputs": [
    {
     "name": "stdout",
     "output_type": "stream",
     "text": [
      "  feature_names  mutual_info\n",
      "6        Attr27     0.028791\n",
      "9        Attr42     0.015943\n",
      "4        Attr24     0.015930\n",
      "5        Attr26     0.015656\n",
      "3        Attr22     0.015163\n",
      "8        Attr41     0.015017\n",
      "0        Attr13     0.014908\n",
      "1        Attr15     0.014380\n",
      "2        Attr16     0.014263\n",
      "7        Attr35     0.013563\n"
     ]
    }
   ],
   "source": [
    "frs_mi = select_k_best(mutual_info_classif)"
   ]
  },
  {
   "cell_type": "markdown",
   "metadata": {},
   "source": [
    "As it is seen from the results, the most important feature in classifying whether the company becomes bankrupted after 0..5 years is the year attribute.\n",
    "Features ranking:\n",
    "1. X27 profit on operating activities / financial expenses\n",
    "2. X42 profit on operating activities / sales\n",
    "3. X24 gross profit (in 3 years) / total assets\n",
    "4. X26 (net profit + depreciation) / total liabilities\n",
    "5. X22 profit on operating activities / total assets\n",
    "6. X41 total liabilities / ((profit on operating activities + depreciation) * (12/365))\n",
    "7. X13 (gross profit + depreciation) / sales\n",
    "8. X15 (total liabilities * 365) / (gross profit + depreciation)\n",
    "9. X16 (gross profit + depreciation) / total liabilities\n",
    "10. X35 profit on sales / total assets"
   ]
  },
  {
   "cell_type": "code",
   "execution_count": 5,
   "metadata": {},
   "outputs": [
    {
     "name": "stdout",
     "output_type": "stream",
     "text": [
      "  feature_names  mutual_info\n",
      "3        Attr29    32.409653\n",
      "0         Attr1    28.285127\n",
      "4         Attr3    14.394464\n",
      "5        Attr39    14.271093\n",
      "7        Attr51    14.130653\n",
      "1         Attr2    13.383507\n",
      "9         Attr6    12.332796\n",
      "8        Attr57     9.848139\n",
      "6        Attr48     8.010317\n",
      "2        Attr25     6.893714\n"
     ]
    }
   ],
   "source": [
    "frs_anova = select_k_best(f_classif)"
   ]
  },
  {
   "cell_type": "code",
   "execution_count": 6,
   "metadata": {},
   "outputs": [
    {
     "name": "stdout",
     "output_type": "stream",
     "text": [
      "['Attr61', 'Attr53', 'Attr8', 'Attr47', 'Attr17', 'Attr19', 'Attr56', 'Attr44', 'Attr33', 'Attr23', 'Attr31', 'Attr32', 'Attr2', 'Attr43', 'Attr6', 'Attr20', 'Attr60', 'Attr38', 'Attr25', 'Attr10', 'Attr29', 'Attr45', 'Attr52', 'Attr21']\n"
     ]
    }
   ],
   "source": [
    "import pickle\n",
    "\n",
    "with open('../models/features.pkl', 'rb') as f:\n",
    "    kendall_frs = pickle.load(f)\n",
    "    print(kendall_frs)"
   ]
  },
  {
   "cell_type": "markdown",
   "metadata": {},
   "source": [
    "XGBoost model and k-fold cross-validation, binary classification:"
   ]
  },
  {
   "cell_type": "code",
   "execution_count": 7,
   "metadata": {},
   "outputs": [],
   "source": [
    "import xgboost\n",
    "from sklearn.model_selection import KFold\n",
    "from sklearn.model_selection import cross_val_score\n",
    "from sklearn.naive_bayes import GaussianNB\n",
    "from sklearn.ensemble import RandomForestClassifier\n",
    "    \n",
    "    \n",
    "def save_model(model, frs, label, out_dir):\n",
    "    model.fit(frs, label)\n",
    "    pickle.dump(model, open(out_dir,'wb'))\n",
    "\n",
    "def cross_validate(out_dir, frs, label):  \n",
    "    model = pickle.load(open(out_dir,'rb'))   \n",
    "    kfold = KFold(n_splits=5)\n",
    "    results = cross_val_score(model, frs, label, cv=kfold)\n",
    "    print(\"Accuracy: %.2f%% (%.2f%%)\" % (results.mean()*100, results.std()*100))    "
   ]
  },
  {
   "cell_type": "markdown",
   "metadata": {},
   "source": [
    "Fit and save models:\n",
    "1. XGBoost classifier with all features (original data with missing values);\n",
    "2. Gaussian Naive Bayes (imputed missing values);\n",
    "3. Random forest classifier (imputed dataset reduced to the features subset based on Kendalls' tau in range [-0.8, 0.8] selected from original data having missing values);\n",
    "4. Random forest classifier (imputed dataset reduced to top-10 features subset based on mutual information gain, kNN, k=3);\n",
    "5. Random forest classifier (imputed dataset reduced to top-10 features subset based on ANOVA)"
   ]
  },
  {
   "cell_type": "code",
   "execution_count": 8,
   "metadata": {},
   "outputs": [],
   "source": [
    "all_frs = df[df.columns.difference(['bankruptcy_after_years', 'class'])] # with NaNs\n",
    "label = df['bankruptcy_after_years']\n",
    "\n",
    "models = [(xgboost.XGBClassifier(), all_frs, '../models/xgboost.pkl'),\n",
    "          (GaussianNB(), X, '../models/gaussiannb.pkl'), #imputed NaNs\n",
    "          (RandomForestClassifier(), X[kendall_frs], '../models/rand_forest_kendall.pkl'), #imputed NaNs\n",
    "          (RandomForestClassifier(), X[frs_mi], '../models/rand_forest_mi.pkl'), #imputed NaNs\n",
    "          (RandomForestClassifier(), X[frs_anova], '../models/rand_forest_anova.pkl') #imputed NaNs\n",
    "         ]\n",
    "for model, frs, out_dir in models:\n",
    "    save_model(model, frs, label, out_dir)"
   ]
  },
  {
   "cell_type": "code",
   "execution_count": 9,
   "metadata": {},
   "outputs": [
    {
     "name": "stdout",
     "output_type": "stream",
     "text": [
      "Accuracy: 95.10% (3.51%)\n",
      "Accuracy: 1.73% (0.21%)\n",
      "Accuracy: 94.56% (3.21%)\n",
      "Accuracy: 94.60% (3.26%)\n",
      "Accuracy: 94.60% (3.22%)\n"
     ]
    }
   ],
   "source": [
    "for model, frs, out_dir in models:    \n",
    "    cross_validate(out_dir, frs, label)"
   ]
  },
  {
   "cell_type": "markdown",
   "metadata": {},
   "source": [
    "- As it is seen from the cross-validation results (5-fold), Gaussian Naive Bayes classifier needs tuning due to extremely low performance.\n",
    "- XGBoost classifier outperforms on non-reduced data - it means that data reduction and/or imputation strategy should be tuned.\n"
   ]
  }
 ],
 "metadata": {
  "kernelspec": {
   "display_name": "Python 3",
   "language": "python",
   "name": "python3"
  },
  "language_info": {
   "codemirror_mode": {
    "name": "ipython",
    "version": 3
   },
   "file_extension": ".py",
   "mimetype": "text/x-python",
   "name": "python",
   "nbconvert_exporter": "python",
   "pygments_lexer": "ipython3",
   "version": "3.7.4"
  },
  "pycharm": {
   "stem_cell": {
    "cell_type": "raw",
    "metadata": {
     "collapsed": false
    },
    "source": []
   }
  }
 },
 "nbformat": 4,
 "nbformat_minor": 1
}
