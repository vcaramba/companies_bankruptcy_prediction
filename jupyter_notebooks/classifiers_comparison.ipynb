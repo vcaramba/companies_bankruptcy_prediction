{
 "cells": [
  {
   "cell_type": "code",
   "execution_count": 1,
   "metadata": {
    "pycharm": {
     "is_executing": true
    }
   },
   "outputs": [
    {
     "data": {
      "text/html": [
       "<div>\n",
       "<style scoped>\n",
       "    .dataframe tbody tr th:only-of-type {\n",
       "        vertical-align: middle;\n",
       "    }\n",
       "\n",
       "    .dataframe tbody tr th {\n",
       "        vertical-align: top;\n",
       "    }\n",
       "\n",
       "    .dataframe thead th {\n",
       "        text-align: right;\n",
       "    }\n",
       "</style>\n",
       "<table border=\"1\" class=\"dataframe\">\n",
       "  <thead>\n",
       "    <tr style=\"text-align: right;\">\n",
       "      <th></th>\n",
       "      <th>Attr1</th>\n",
       "      <th>Attr2</th>\n",
       "      <th>Attr3</th>\n",
       "      <th>Attr4</th>\n",
       "      <th>Attr5</th>\n",
       "      <th>Attr6</th>\n",
       "      <th>Attr7</th>\n",
       "      <th>Attr8</th>\n",
       "      <th>Attr9</th>\n",
       "      <th>Attr10</th>\n",
       "      <th>...</th>\n",
       "      <th>Attr57</th>\n",
       "      <th>Attr58</th>\n",
       "      <th>Attr59</th>\n",
       "      <th>Attr60</th>\n",
       "      <th>Attr61</th>\n",
       "      <th>Attr62</th>\n",
       "      <th>Attr63</th>\n",
       "      <th>Attr64</th>\n",
       "      <th>class</th>\n",
       "      <th>bankruptcy_after_years</th>\n",
       "    </tr>\n",
       "  </thead>\n",
       "  <tbody>\n",
       "    <tr>\n",
       "      <th>0</th>\n",
       "      <td>0.200550</td>\n",
       "      <td>0.37951</td>\n",
       "      <td>0.39641</td>\n",
       "      <td>2.0472</td>\n",
       "      <td>32.3510</td>\n",
       "      <td>0.38825</td>\n",
       "      <td>0.249760</td>\n",
       "      <td>1.33050</td>\n",
       "      <td>1.1389</td>\n",
       "      <td>0.50494</td>\n",
       "      <td>...</td>\n",
       "      <td>0.39718</td>\n",
       "      <td>0.87804</td>\n",
       "      <td>0.001924</td>\n",
       "      <td>8.4160</td>\n",
       "      <td>5.1372</td>\n",
       "      <td>82.658</td>\n",
       "      <td>4.4158</td>\n",
       "      <td>7.4277</td>\n",
       "      <td>0</td>\n",
       "      <td>0</td>\n",
       "    </tr>\n",
       "    <tr>\n",
       "      <th>1</th>\n",
       "      <td>0.209120</td>\n",
       "      <td>0.49988</td>\n",
       "      <td>0.47225</td>\n",
       "      <td>1.9447</td>\n",
       "      <td>14.7860</td>\n",
       "      <td>0.00000</td>\n",
       "      <td>0.258340</td>\n",
       "      <td>0.99601</td>\n",
       "      <td>1.6996</td>\n",
       "      <td>0.49788</td>\n",
       "      <td>...</td>\n",
       "      <td>0.42002</td>\n",
       "      <td>0.85300</td>\n",
       "      <td>0.000000</td>\n",
       "      <td>4.1486</td>\n",
       "      <td>3.2732</td>\n",
       "      <td>107.350</td>\n",
       "      <td>3.4000</td>\n",
       "      <td>60.9870</td>\n",
       "      <td>0</td>\n",
       "      <td>0</td>\n",
       "    </tr>\n",
       "    <tr>\n",
       "      <th>2</th>\n",
       "      <td>0.248660</td>\n",
       "      <td>0.69592</td>\n",
       "      <td>0.26713</td>\n",
       "      <td>1.5548</td>\n",
       "      <td>-1.1523</td>\n",
       "      <td>0.00000</td>\n",
       "      <td>0.309060</td>\n",
       "      <td>0.43695</td>\n",
       "      <td>1.3090</td>\n",
       "      <td>0.30408</td>\n",
       "      <td>...</td>\n",
       "      <td>0.81774</td>\n",
       "      <td>0.76599</td>\n",
       "      <td>0.694840</td>\n",
       "      <td>4.9909</td>\n",
       "      <td>3.9510</td>\n",
       "      <td>134.270</td>\n",
       "      <td>2.7185</td>\n",
       "      <td>5.2078</td>\n",
       "      <td>0</td>\n",
       "      <td>0</td>\n",
       "    </tr>\n",
       "    <tr>\n",
       "      <th>3</th>\n",
       "      <td>0.081483</td>\n",
       "      <td>0.30734</td>\n",
       "      <td>0.45879</td>\n",
       "      <td>2.4928</td>\n",
       "      <td>51.9520</td>\n",
       "      <td>0.14988</td>\n",
       "      <td>0.092704</td>\n",
       "      <td>1.86610</td>\n",
       "      <td>1.0571</td>\n",
       "      <td>0.57353</td>\n",
       "      <td>...</td>\n",
       "      <td>0.14207</td>\n",
       "      <td>0.94598</td>\n",
       "      <td>0.000000</td>\n",
       "      <td>4.5746</td>\n",
       "      <td>3.6147</td>\n",
       "      <td>86.435</td>\n",
       "      <td>4.2228</td>\n",
       "      <td>5.5497</td>\n",
       "      <td>0</td>\n",
       "      <td>0</td>\n",
       "    </tr>\n",
       "    <tr>\n",
       "      <th>4</th>\n",
       "      <td>0.187320</td>\n",
       "      <td>0.61323</td>\n",
       "      <td>0.22960</td>\n",
       "      <td>1.4063</td>\n",
       "      <td>-7.3128</td>\n",
       "      <td>0.18732</td>\n",
       "      <td>0.187320</td>\n",
       "      <td>0.63070</td>\n",
       "      <td>1.1559</td>\n",
       "      <td>0.38677</td>\n",
       "      <td>...</td>\n",
       "      <td>0.48431</td>\n",
       "      <td>0.86515</td>\n",
       "      <td>0.124440</td>\n",
       "      <td>6.3985</td>\n",
       "      <td>4.3158</td>\n",
       "      <td>127.210</td>\n",
       "      <td>2.8692</td>\n",
       "      <td>7.8980</td>\n",
       "      <td>0</td>\n",
       "      <td>0</td>\n",
       "    </tr>\n",
       "  </tbody>\n",
       "</table>\n",
       "<p>5 rows × 66 columns</p>\n",
       "</div>"
      ],
      "text/plain": [
       "      Attr1    Attr2    Attr3   Attr4    Attr5    Attr6     Attr7    Attr8  \\\n",
       "0  0.200550  0.37951  0.39641  2.0472  32.3510  0.38825  0.249760  1.33050   \n",
       "1  0.209120  0.49988  0.47225  1.9447  14.7860  0.00000  0.258340  0.99601   \n",
       "2  0.248660  0.69592  0.26713  1.5548  -1.1523  0.00000  0.309060  0.43695   \n",
       "3  0.081483  0.30734  0.45879  2.4928  51.9520  0.14988  0.092704  1.86610   \n",
       "4  0.187320  0.61323  0.22960  1.4063  -7.3128  0.18732  0.187320  0.63070   \n",
       "\n",
       "    Attr9   Attr10  ...   Attr57   Attr58    Attr59  Attr60  Attr61   Attr62  \\\n",
       "0  1.1389  0.50494  ...  0.39718  0.87804  0.001924  8.4160  5.1372   82.658   \n",
       "1  1.6996  0.49788  ...  0.42002  0.85300  0.000000  4.1486  3.2732  107.350   \n",
       "2  1.3090  0.30408  ...  0.81774  0.76599  0.694840  4.9909  3.9510  134.270   \n",
       "3  1.0571  0.57353  ...  0.14207  0.94598  0.000000  4.5746  3.6147   86.435   \n",
       "4  1.1559  0.38677  ...  0.48431  0.86515  0.124440  6.3985  4.3158  127.210   \n",
       "\n",
       "   Attr63   Attr64  class  bankruptcy_after_years  \n",
       "0  4.4158   7.4277      0                       0  \n",
       "1  3.4000  60.9870      0                       0  \n",
       "2  2.7185   5.2078      0                       0  \n",
       "3  4.2228   5.5497      0                       0  \n",
       "4  2.8692   7.8980      0                       0  \n",
       "\n",
       "[5 rows x 66 columns]"
      ]
     },
     "execution_count": 1,
     "metadata": {},
     "output_type": "execute_result"
    }
   ],
   "source": [
    "import numpy as np\n",
    "import pandas as pd\n",
    "import pickle\n",
    "\n",
    "col_names = pd.read_csv('../data/dataset.csv', nrows=0).columns\n",
    "dtype_map = {'class' : np.int16, 'bankruptcy_after_years' : np.int16}\n",
    "dtype_map.update({col: np.float64 for col in col_names if col not in dtype_map})\n",
    "\n",
    "df = pd.read_csv('../data/dataset.csv', dtype=dtype_map)\n",
    "df = df.drop([df.columns[0], df.columns[1], df.columns[2], 'year'], axis=1)\n",
    "df.drop_duplicates(keep=False, inplace=True)\n",
    "\n",
    "df.head()"
   ]
  },
  {
   "cell_type": "markdown",
   "metadata": {},
   "source": [
    "XGBoost model and k-fold cross-validation, binary classification:"
   ]
  },
  {
   "cell_type": "code",
   "execution_count": 11,
   "metadata": {},
   "outputs": [],
   "source": [
    "import xgboost\n",
    "from sklearn.model_selection import KFold\n",
    "from sklearn.model_selection import cross_val_score, cross_validate\n",
    "from sklearn.naive_bayes import GaussianNB\n",
    "from sklearn.ensemble import RandomForestClassifier\n",
    "from sklearn.metrics import make_scorer, accuracy_score, precision_score, recall_score, f1_score\n",
    "import numpy as np\n",
    "\n",
    "scoring = {'accuracy' : make_scorer(accuracy_score),\n",
    "           'precision' : make_scorer(precision_score, average='micro'),\n",
    "           'recall' : make_scorer(recall_score, average='micro'), \n",
    "           'f1_score' : make_scorer(f1_score, average='micro')}\n",
    "\n",
    "   \n",
    "    \n",
    "def save_model(model, frs, label, out_dir):\n",
    "    model.fit(frs, label)\n",
    "    pickle.dump(model, open(out_dir,'wb'))\n",
    "\n",
    "\n",
    "def validate(out_dir, frs, label):  \n",
    "    model = pickle.load(open(out_dir,'rb'))   \n",
    "    kfold = KFold(n_splits=5)\n",
    "    return cross_validate(estimator=model, X=frs, y=label, cv=kfold, scoring=scoring)"
   ]
  },
  {
   "cell_type": "markdown",
   "metadata": {},
   "source": [
    "Fit and save  XGBoost classifier with all features (original data with missing values)"
   ]
  },
  {
   "cell_type": "code",
   "execution_count": 2,
   "metadata": {},
   "outputs": [],
   "source": [
    "all_frs = df[df.columns.difference(['bankruptcy_after_years', 'class'])] # with NaNs\n",
    "label = df['bankruptcy_after_years']\n",
    "save_model(xgboost.XGBClassifier(), all_frs, label, '../models/xgboost.pkl')"
   ]
  },
  {
   "cell_type": "markdown",
   "metadata": {},
   "source": [
    "Check cross-validation accuracy, precision, recall, and f1-score for XGBoost classifier fitted on all features with kept NaNs:"
   ]
  },
  {
   "cell_type": "code",
   "execution_count": 46,
   "metadata": {},
   "outputs": [
    {
     "data": {
      "text/plain": [
       "{'fit_time': array([144.80531359, 139.43467355, 174.6276567 , 159.52204514,\n",
       "        128.61141706]),\n",
       " 'score_time': array([0.21106172, 0.2135067 , 0.25859308, 0.23638296, 0.17466044]),\n",
       " 'test_accuracy': array([0.96819995, 0.95306266, 0.99941328, 0.94191504, 0.89238352]),\n",
       " 'test_precision': array([0.96819995, 0.95306266, 0.99941328, 0.94191504, 0.89238352]),\n",
       " 'test_recall': array([0.96819995, 0.95306266, 0.99941328, 0.94191504, 0.89238352]),\n",
       " 'test_f1_score': array([0.96819995, 0.95306266, 0.99941328, 0.94191504, 0.89238352])}"
      ]
     },
     "execution_count": 46,
     "metadata": {},
     "output_type": "execute_result"
    }
   ],
   "source": [
    "results = validate('../models/xgboost.pkl', all_frs, label)\n",
    "results"
   ]
  },
  {
   "cell_type": "code",
   "execution_count": 47,
   "metadata": {},
   "outputs": [
    {
     "data": {
      "text/plain": [
       "0.9509948928308628"
      ]
     },
     "execution_count": 47,
     "metadata": {},
     "output_type": "execute_result"
    }
   ],
   "source": [
    "np.mean(results['test_accuracy'])"
   ]
  },
  {
   "cell_type": "code",
   "execution_count": 48,
   "metadata": {},
   "outputs": [
    {
     "data": {
      "text/plain": [
       "0.9509948928308628"
      ]
     },
     "execution_count": 48,
     "metadata": {},
     "output_type": "execute_result"
    }
   ],
   "source": [
    "np.mean(results['test_precision'])"
   ]
  },
  {
   "cell_type": "code",
   "execution_count": 49,
   "metadata": {},
   "outputs": [
    {
     "data": {
      "text/plain": [
       "0.9509948928308628"
      ]
     },
     "execution_count": 49,
     "metadata": {},
     "output_type": "execute_result"
    }
   ],
   "source": [
    "np.mean(results['test_recall'])"
   ]
  },
  {
   "cell_type": "code",
   "execution_count": 50,
   "metadata": {},
   "outputs": [
    {
     "data": {
      "text/plain": [
       "0.9509948928308628"
      ]
     },
     "execution_count": 50,
     "metadata": {},
     "output_type": "execute_result"
    }
   ],
   "source": [
    "np.mean(results['test_f1_score'])"
   ]
  },
  {
   "cell_type": "markdown",
   "metadata": {},
   "source": [
    "- As it is seen from the 5-fold cross validation results, XGBoost classifier performs well on non-reduced and highly skewed imbalanced data - it means that further data reduction and / or imputation are redundant steps. The dataset chosen for analysis already contains synthetic features, so engineering new ones is not necessary in case of such a high performance."
   ]
  },
  {
   "cell_type": "code",
   "execution_count": 3,
   "metadata": {},
   "outputs": [],
   "source": [
    "model = pickle.load(open('../models/xgboost.pkl','rb'))"
   ]
  },
  {
   "cell_type": "code",
   "execution_count": 4,
   "metadata": {},
   "outputs": [
    {
     "data": {
      "text/plain": [
       "array([<matplotlib.axes._subplots.AxesSubplot object at 0x7f542e8b1390>,\n",
       "       <matplotlib.axes._subplots.AxesSubplot object at 0x7f542e62c590>,\n",
       "       <matplotlib.axes._subplots.AxesSubplot object at 0x7f542e5e4250>,\n",
       "       <matplotlib.axes._subplots.AxesSubplot object at 0x7f542e5a35d0>,\n",
       "       <matplotlib.axes._subplots.AxesSubplot object at 0x7f542e558290>,\n",
       "       <matplotlib.axes._subplots.AxesSubplot object at 0x7f542e518610>],\n",
       "      dtype=object)"
      ]
     },
     "execution_count": 4,
     "metadata": {},
     "output_type": "execute_result"
    },
    {
     "data": {
      "image/png": "[encoded data removed]",
      "text/plain": [
       "<Figure size 1080x720 with 6 Axes>"
      ]
     },
     "metadata": {
      "needs_background": "light"
     },
     "output_type": "display_data"
    }
   ],
   "source": [
    "from sklearn.metrics import precision_recall_curve, auc, average_precision_score, roc_curve\n",
    "import matplotlib.pyplot as plt\n",
    "\n",
    "def plot_precision_recall(out_dir, y_test):\n",
    "    model = pickle.load(open(out_dir,'rb'))  \n",
    "    class_labels = np.sort(y_test.unique())\n",
    "\n",
    "    row_count = np.ceil(len(class_labels) / 3).astype(int)\n",
    "    fig, axes = plt.subplots(row_count, 3, figsize=(15, row_count*5))\n",
    "    axes = axes.flatten()\n",
    "    \n",
    "    preds = model.predict_proba(all_frs)\n",
    "\n",
    "    if len(axes) > len(class_labels):\n",
    "        for i in range(len(class_labels), len(axes)):\n",
    "            fig.delaxes(axes[i])\n",
    "\n",
    "    for i, class_label in enumerate(class_labels):\n",
    "        axes[i].axhline(sum(y_test == class_label)/len(y_test), color='navy', lw=2, linestyle='--', label='baseline')\n",
    "        actuals = np.where(y_test == class_label, 1, 0)\n",
    "        predicted_probabilities = preds[:,i]\n",
    "        precision, recall, thresholds = precision_recall_curve(actuals, predicted_probabilities)\n",
    "        auc_score = auc(recall, precision)\n",
    "        ap_score = average_precision_score(actuals, predicted_probabilities)\n",
    "        axes[i].plot(recall, precision, lw=2, label=f\"\"\"AUC: {auc_score:.2}; AP : {ap_score:.2}\"\"\")\n",
    "\n",
    "        axes[i].legend()\n",
    "        axes[i].set_title(f'Precision-recall curve: class {class_label}')\n",
    "        axes[i].set_xlabel('Recall')\n",
    "        axes[i].set_ylabel('Precision')\n",
    "\n",
    "        axes[i].set_xlim(-0.05, 1.05)\n",
    "        axes[i].set_ylim(-0.05, 1.05)\n",
    "\n",
    "    return axes\n",
    "\n",
    "    \n",
    "plot_precision_recall('../models/xgboost.pkl', label)\n"
   ]
  },
  {
   "cell_type": "code",
   "execution_count": 7,
   "metadata": {},
   "outputs": [
    {
     "data": {
      "image/png": "[encoded data removed]",
      "text/plain": [
       "<Figure size 432x288 with 1 Axes>"
      ]
     },
     "metadata": {
      "needs_background": "light"
     },
     "output_type": "display_data"
    }
   ],
   "source": [
    "from scikitplot.plotters import plot_precision_recall_curve\n",
    "import matplotlib.pyplot as plt\n",
    "\n",
    "y_probas = model.predict_proba(all_frs)\n",
    "plot_precision_recall_curve(label, y_probas)\n",
    "plt.show()"
   ]
  },
  {
   "cell_type": "markdown",
   "metadata": {},
   "source": [
    "As it is seen from the precision-recall curves above, the XGBoost classifier tends to classify non-bankrupted companies and still misclassify bankrupted companies due to the dataset strong skewness towards non-bankrupted class (class 0)."
   ]
  },
  {
   "cell_type": "code",
   "execution_count": 8,
   "metadata": {},
   "outputs": [
    {
     "data": {
      "text/plain": [
       "0    40534\n",
       "2      511\n",
       "3      491\n",
       "1      406\n",
       "4      396\n",
       "5      271\n",
       "Name: bankruptcy_after_years, dtype: int64"
      ]
     },
     "execution_count": 8,
     "metadata": {},
     "output_type": "execute_result"
    }
   ],
   "source": [
    "df['bankruptcy_after_years'].value_counts()"
   ]
  },
  {
   "cell_type": "code",
   "execution_count": 5,
   "metadata": {},
   "outputs": [
    {
     "data": {
      "text/plain": [
       "0"
      ]
     },
     "execution_count": 5,
     "metadata": {},
     "output_type": "execute_result"
    }
   ],
   "source": [
    "from sklearn.impute import SimpleImputer\n",
    "import gc\n",
    "import numpy as np\n",
    "\n",
    "imp = SimpleImputer(missing_values=np.nan, strategy='mean')\n",
    "imp_data = imp.fit_transform(df)\n",
    "imp_data_df = pd.DataFrame(imp_data, index=df.index, columns=df.columns)\n",
    "\n",
    "X = imp_data_df[imp_data_df.columns.difference(['bankruptcy_after_years', 'class'])]\n",
    "Y = imp_data_df['bankruptcy_after_years']\n",
    "\n",
    "del imp_data, imp_data_df\n",
    "gc.collect()"
   ]
  },
  {
   "cell_type": "code",
   "execution_count": 7,
   "metadata": {},
   "outputs": [
    {
     "data": {
      "text/html": [
       "<div>\n",
       "<style scoped>\n",
       "    .dataframe tbody tr th:only-of-type {\n",
       "        vertical-align: middle;\n",
       "    }\n",
       "\n",
       "    .dataframe tbody tr th {\n",
       "        vertical-align: top;\n",
       "    }\n",
       "\n",
       "    .dataframe thead th {\n",
       "        text-align: right;\n",
       "    }\n",
       "</style>\n",
       "<table border=\"1\" class=\"dataframe\">\n",
       "  <thead>\n",
       "    <tr style=\"text-align: right;\">\n",
       "      <th></th>\n",
       "      <th>Attr1</th>\n",
       "      <th>Attr10</th>\n",
       "      <th>Attr11</th>\n",
       "      <th>Attr12</th>\n",
       "      <th>Attr13</th>\n",
       "      <th>Attr14</th>\n",
       "      <th>Attr15</th>\n",
       "      <th>Attr16</th>\n",
       "      <th>Attr17</th>\n",
       "      <th>Attr18</th>\n",
       "      <th>...</th>\n",
       "      <th>Attr59</th>\n",
       "      <th>Attr6</th>\n",
       "      <th>Attr60</th>\n",
       "      <th>Attr61</th>\n",
       "      <th>Attr62</th>\n",
       "      <th>Attr63</th>\n",
       "      <th>Attr64</th>\n",
       "      <th>Attr7</th>\n",
       "      <th>Attr8</th>\n",
       "      <th>Attr9</th>\n",
       "    </tr>\n",
       "  </thead>\n",
       "  <tbody>\n",
       "    <tr>\n",
       "      <th>count</th>\n",
       "      <td>243204.000000</td>\n",
       "      <td>243204.000000</td>\n",
       "      <td>243204.000000</td>\n",
       "      <td>243204.000000</td>\n",
       "      <td>243204.000000</td>\n",
       "      <td>243204.000000</td>\n",
       "      <td>2.432040e+05</td>\n",
       "      <td>243204.000000</td>\n",
       "      <td>243204.000000</td>\n",
       "      <td>243204.000000</td>\n",
       "      <td>...</td>\n",
       "      <td>243204.000000</td>\n",
       "      <td>243204.000000</td>\n",
       "      <td>2.432040e+05</td>\n",
       "      <td>243204.000000</td>\n",
       "      <td>2.432040e+05</td>\n",
       "      <td>243204.000000</td>\n",
       "      <td>243204.000000</td>\n",
       "      <td>243204.000000</td>\n",
       "      <td>243204.000000</td>\n",
       "      <td>243204.000000</td>\n",
       "    </tr>\n",
       "    <tr>\n",
       "      <th>mean</th>\n",
       "      <td>-0.163196</td>\n",
       "      <td>0.008960</td>\n",
       "      <td>-0.094943</td>\n",
       "      <td>-1.171724</td>\n",
       "      <td>0.230821</td>\n",
       "      <td>-0.145627</td>\n",
       "      <td>3.274770e+03</td>\n",
       "      <td>-0.739304</td>\n",
       "      <td>7.061750</td>\n",
       "      <td>-0.144720</td>\n",
       "      <td>...</td>\n",
       "      <td>0.640439</td>\n",
       "      <td>-0.601889</td>\n",
       "      <td>1.740681e+02</td>\n",
       "      <td>15.304702</td>\n",
       "      <td>9.588452e+02</td>\n",
       "      <td>7.874449</td>\n",
       "      <td>73.029088</td>\n",
       "      <td>-0.145629</td>\n",
       "      <td>5.971279</td>\n",
       "      <td>2.040852</td>\n",
       "    </tr>\n",
       "    <tr>\n",
       "      <th>std</th>\n",
       "      <td>5.900643</td>\n",
       "      <td>11.617880</td>\n",
       "      <td>6.152904</td>\n",
       "      <td>77.169012</td>\n",
       "      <td>37.819191</td>\n",
       "      <td>6.268849</td>\n",
       "      <td>5.440358e+04</td>\n",
       "      <td>75.631398</td>\n",
       "      <td>204.692970</td>\n",
       "      <td>6.272886</td>\n",
       "      <td>...</td>\n",
       "      <td>51.988400</td>\n",
       "      <td>11.691532</td>\n",
       "      <td>1.338958e+04</td>\n",
       "      <td>236.666543</td>\n",
       "      <td>6.070994e+04</td>\n",
       "      <td>60.884810</td>\n",
       "      <td>1958.380190</td>\n",
       "      <td>6.268849</td>\n",
       "      <td>204.064236</td>\n",
       "      <td>24.276353</td>\n",
       "    </tr>\n",
       "    <tr>\n",
       "      <th>min</th>\n",
       "      <td>-463.890000</td>\n",
       "      <td>-479.910000</td>\n",
       "      <td>-463.890000</td>\n",
       "      <td>-6331.800000</td>\n",
       "      <td>-1460.600000</td>\n",
       "      <td>-517.480000</td>\n",
       "      <td>-9.632400e+06</td>\n",
       "      <td>-6331.800000</td>\n",
       "      <td>-0.412920</td>\n",
       "      <td>-517.480000</td>\n",
       "      <td>...</td>\n",
       "      <td>-327.970000</td>\n",
       "      <td>-508.410000</td>\n",
       "      <td>-1.244000e+01</td>\n",
       "      <td>-12.656000</td>\n",
       "      <td>-2.336500e+06</td>\n",
       "      <td>-1.543200</td>\n",
       "      <td>-10677.000000</td>\n",
       "      <td>-517.480000</td>\n",
       "      <td>-141.410000</td>\n",
       "      <td>-3.496000</td>\n",
       "    </tr>\n",
       "    <tr>\n",
       "      <th>25%</th>\n",
       "      <td>-0.086511</td>\n",
       "      <td>0.150705</td>\n",
       "      <td>-0.062566</td>\n",
       "      <td>-0.164558</td>\n",
       "      <td>-0.038257</td>\n",
       "      <td>-0.086800</td>\n",
       "      <td>-1.092215e+03</td>\n",
       "      <td>-0.066542</td>\n",
       "      <td>1.237631</td>\n",
       "      <td>-0.086800</td>\n",
       "      <td>...</td>\n",
       "      <td>0.000000</td>\n",
       "      <td>-0.119621</td>\n",
       "      <td>6.385079e+00</td>\n",
       "      <td>5.139070</td>\n",
       "      <td>6.187600e+01</td>\n",
       "      <td>2.498099</td>\n",
       "      <td>2.810767</td>\n",
       "      <td>-0.086800</td>\n",
       "      <td>0.218298</td>\n",
       "      <td>1.011573</td>\n",
       "    </tr>\n",
       "    <tr>\n",
       "      <th>50%</th>\n",
       "      <td>0.011029</td>\n",
       "      <td>0.334289</td>\n",
       "      <td>0.033051</td>\n",
       "      <td>0.028392</td>\n",
       "      <td>0.027404</td>\n",
       "      <td>0.015137</td>\n",
       "      <td>7.881809e+02</td>\n",
       "      <td>0.076876</td>\n",
       "      <td>1.607207</td>\n",
       "      <td>0.015138</td>\n",
       "      <td>...</td>\n",
       "      <td>0.048011</td>\n",
       "      <td>0.000000</td>\n",
       "      <td>1.208901e+01</td>\n",
       "      <td>7.791260</td>\n",
       "      <td>1.007739e+02</td>\n",
       "      <td>3.952851</td>\n",
       "      <td>5.520893</td>\n",
       "      <td>0.015134</td>\n",
       "      <td>0.573466</td>\n",
       "      <td>1.319788</td>\n",
       "    </tr>\n",
       "    <tr>\n",
       "      <th>75%</th>\n",
       "      <td>0.072400</td>\n",
       "      <td>0.539869</td>\n",
       "      <td>0.113318</td>\n",
       "      <td>0.226749</td>\n",
       "      <td>0.076070</td>\n",
       "      <td>0.088266</td>\n",
       "      <td>3.056357e+03</td>\n",
       "      <td>0.277362</td>\n",
       "      <td>2.490038</td>\n",
       "      <td>0.088291</td>\n",
       "      <td>...</td>\n",
       "      <td>0.348991</td>\n",
       "      <td>0.006914</td>\n",
       "      <td>3.267962e+01</td>\n",
       "      <td>12.749856</td>\n",
       "      <td>1.627020e+02</td>\n",
       "      <td>6.615670</td>\n",
       "      <td>15.551344</td>\n",
       "      <td>0.088263</td>\n",
       "      <td>1.425114</td>\n",
       "      <td>2.210976</td>\n",
       "    </tr>\n",
       "    <tr>\n",
       "      <th>max</th>\n",
       "      <td>94.280000</td>\n",
       "      <td>1099.500000</td>\n",
       "      <td>681.540000</td>\n",
       "      <td>8259.400000</td>\n",
       "      <td>13315.000000</td>\n",
       "      <td>649.230000</td>\n",
       "      <td>1.023600e+07</td>\n",
       "      <td>8259.400000</td>\n",
       "      <td>53433.000000</td>\n",
       "      <td>649.230000</td>\n",
       "      <td>...</td>\n",
       "      <td>23853.000000</td>\n",
       "      <td>543.250000</td>\n",
       "      <td>4.818700e+06</td>\n",
       "      <td>108000.000000</td>\n",
       "      <td>2.501600e+07</td>\n",
       "      <td>23454.000000</td>\n",
       "      <td>294770.000000</td>\n",
       "      <td>649.230000</td>\n",
       "      <td>53432.000000</td>\n",
       "      <td>9742.300000</td>\n",
       "    </tr>\n",
       "  </tbody>\n",
       "</table>\n",
       "<p>8 rows × 64 columns</p>\n",
       "</div>"
      ],
      "text/plain": [
       "               Attr1         Attr10         Attr11         Attr12  \\\n",
       "count  243204.000000  243204.000000  243204.000000  243204.000000   \n",
       "mean       -0.163196       0.008960      -0.094943      -1.171724   \n",
       "std         5.900643      11.617880       6.152904      77.169012   \n",
       "min      -463.890000    -479.910000    -463.890000   -6331.800000   \n",
       "25%        -0.086511       0.150705      -0.062566      -0.164558   \n",
       "50%         0.011029       0.334289       0.033051       0.028392   \n",
       "75%         0.072400       0.539869       0.113318       0.226749   \n",
       "max        94.280000    1099.500000     681.540000    8259.400000   \n",
       "\n",
       "              Attr13         Attr14        Attr15         Attr16  \\\n",
       "count  243204.000000  243204.000000  2.432040e+05  243204.000000   \n",
       "mean        0.230821      -0.145627  3.274770e+03      -0.739304   \n",
       "std        37.819191       6.268849  5.440358e+04      75.631398   \n",
       "min     -1460.600000    -517.480000 -9.632400e+06   -6331.800000   \n",
       "25%        -0.038257      -0.086800 -1.092215e+03      -0.066542   \n",
       "50%         0.027404       0.015137  7.881809e+02       0.076876   \n",
       "75%         0.076070       0.088266  3.056357e+03       0.277362   \n",
       "max     13315.000000     649.230000  1.023600e+07    8259.400000   \n",
       "\n",
       "              Attr17         Attr18  ...         Attr59          Attr6  \\\n",
       "count  243204.000000  243204.000000  ...  243204.000000  243204.000000   \n",
       "mean        7.061750      -0.144720  ...       0.640439      -0.601889   \n",
       "std       204.692970       6.272886  ...      51.988400      11.691532   \n",
       "min        -0.412920    -517.480000  ...    -327.970000    -508.410000   \n",
       "25%         1.237631      -0.086800  ...       0.000000      -0.119621   \n",
       "50%         1.607207       0.015138  ...       0.048011       0.000000   \n",
       "75%         2.490038       0.088291  ...       0.348991       0.006914   \n",
       "max     53433.000000     649.230000  ...   23853.000000     543.250000   \n",
       "\n",
       "             Attr60         Attr61        Attr62         Attr63  \\\n",
       "count  2.432040e+05  243204.000000  2.432040e+05  243204.000000   \n",
       "mean   1.740681e+02      15.304702  9.588452e+02       7.874449   \n",
       "std    1.338958e+04     236.666543  6.070994e+04      60.884810   \n",
       "min   -1.244000e+01     -12.656000 -2.336500e+06      -1.543200   \n",
       "25%    6.385079e+00       5.139070  6.187600e+01       2.498099   \n",
       "50%    1.208901e+01       7.791260  1.007739e+02       3.952851   \n",
       "75%    3.267962e+01      12.749856  1.627020e+02       6.615670   \n",
       "max    4.818700e+06  108000.000000  2.501600e+07   23454.000000   \n",
       "\n",
       "              Attr64          Attr7          Attr8          Attr9  \n",
       "count  243204.000000  243204.000000  243204.000000  243204.000000  \n",
       "mean       73.029088      -0.145629       5.971279       2.040852  \n",
       "std      1958.380190       6.268849     204.064236      24.276353  \n",
       "min    -10677.000000    -517.480000    -141.410000      -3.496000  \n",
       "25%         2.810767      -0.086800       0.218298       1.011573  \n",
       "50%         5.520893       0.015134       0.573466       1.319788  \n",
       "75%        15.551344       0.088263       1.425114       2.210976  \n",
       "max    294770.000000     649.230000   53432.000000    9742.300000  \n",
       "\n",
       "[8 rows x 64 columns]"
      ]
     },
     "execution_count": 7,
     "metadata": {},
     "output_type": "execute_result"
    }
   ],
   "source": [
    "from imblearn.over_sampling import SMOTE\n",
    "\n",
    "sm = SMOTE(random_state=111)\n",
    "X_res, y_res = sm.fit_resample(X, Y)\n",
    "X_res.describe()"
   ]
  },
  {
   "cell_type": "code",
   "execution_count": 8,
   "metadata": {},
   "outputs": [
    {
     "data": {
      "text/plain": [
       "(243204, 64)"
      ]
     },
     "execution_count": 8,
     "metadata": {},
     "output_type": "execute_result"
    }
   ],
   "source": [
    "X_res.shape"
   ]
  },
  {
   "cell_type": "code",
   "execution_count": 9,
   "metadata": {},
   "outputs": [
    {
     "data": {
      "text/plain": [
       "(42609, 66)"
      ]
     },
     "execution_count": 9,
     "metadata": {},
     "output_type": "execute_result"
    }
   ],
   "source": [
    "df.shape"
   ]
  },
  {
   "cell_type": "code",
   "execution_count": 10,
   "metadata": {},
   "outputs": [
    {
     "data": {
      "text/plain": [
       "1.0    40534\n",
       "5.0    40534\n",
       "4.0    40534\n",
       "3.0    40534\n",
       "2.0    40534\n",
       "0.0    40534\n",
       "Name: bankruptcy_after_years, dtype: int64"
      ]
     },
     "execution_count": 10,
     "metadata": {},
     "output_type": "execute_result"
    }
   ],
   "source": [
    "y_res.value_counts()"
   ]
  },
  {
   "cell_type": "code",
   "execution_count": 12,
   "metadata": {},
   "outputs": [],
   "source": [
    "save_model(xgboost.XGBClassifier(), X_res, y_res, '../models/xgboost_SMOTE.pkl')"
   ]
  },
  {
   "cell_type": "code",
   "execution_count": 13,
   "metadata": {},
   "outputs": [
    {
     "data": {
      "text/plain": [
       "0.09140476667331221"
      ]
     },
     "execution_count": 13,
     "metadata": {},
     "output_type": "execute_result"
    }
   ],
   "source": [
    "results = validate('../models/xgboost_SMOTE.pkl', X_res, y_res)\n",
    "np.mean(results['test_precision'])"
   ]
  },
  {
   "cell_type": "code",
   "execution_count": 14,
   "metadata": {},
   "outputs": [
    {
     "data": {
      "text/plain": [
       "0.09140476667331221"
      ]
     },
     "execution_count": 14,
     "metadata": {},
     "output_type": "execute_result"
    }
   ],
   "source": [
    "np.mean(results['test_recall'])"
   ]
  },
  {
   "cell_type": "code",
   "execution_count": 17,
   "metadata": {},
   "outputs": [
    {
     "name": "stderr",
     "output_type": "stream",
     "text": [
      "/opt/conda/lib/python3.7/site-packages/sklearn/utils/deprecation.py:87: FutureWarning: Function plot_precision_recall_curve is deprecated; This will be removed in v0.4.0. Please use scikitplot.metrics.plot_precision_recall_curve instead.\n",
      "  warnings.warn(msg, category=FutureWarning)\n"
     ]
    },
    {
     "data": {
      "image/png": "[encoded data removed]",
      "text/plain": [
       "<Figure size 432x288 with 1 Axes>"
      ]
     },
     "metadata": {
      "needs_background": "light"
     },
     "output_type": "display_data"
    }
   ],
   "source": [
    "model = pickle.load(open('../models/xgboost_SMOTE.pkl','rb'))\n",
    "\n",
    "y_probas = model.predict_proba(X_res)\n",
    "plot_precision_recall_curve(y_res, y_probas)\n",
    "plt.show()"
   ]
  },
  {
   "cell_type": "markdown",
   "metadata": {},
   "source": [
    "SMOTE oversampling of dataset with imputed missing values has reduced the micro-average precision-recall area under the curve (all features kept)."
   ]
  }
 ],
 "metadata": {
  "kernelspec": {
   "display_name": "Python 3",
   "language": "python",
   "name": "python3"
  },
  "language_info": {
   "codemirror_mode": {
    "name": "ipython",
    "version": 3
   },
   "file_extension": ".py",
   "mimetype": "text/x-python",
   "name": "python",
   "nbconvert_exporter": "python",
   "pygments_lexer": "ipython3",
   "version": "3.7.4"
  },
  "pycharm": {
   "stem_cell": {
    "cell_type": "raw",
    "metadata": {
     "collapsed": false
    },
    "source": []
   }
  }
 },
 "nbformat": 4,
 "nbformat_minor": 1
}
